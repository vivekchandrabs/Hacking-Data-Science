{
 "cells": [
  {
   "cell_type": "code",
   "execution_count": 63,
   "metadata": {
    "collapsed": true
   },
   "outputs": [],
   "source": [
    "import numpy as np\n",
    "import pandas as pd\n",
    "import matplotlib.pyplot as plt\n",
    "from sklearn.model_selection import train_test_split\n",
    "%matplotlib inline"
   ]
  },
  {
   "cell_type": "code",
   "execution_count": 64,
   "metadata": {
    "collapsed": true
   },
   "outputs": [],
   "source": [
    "data_set = pd.read_excel('AirQualityUCI.xlsx', delimiter = ',')"
   ]
  },
  {
   "cell_type": "code",
   "execution_count": 65,
   "metadata": {
    "collapsed": true,
    "scrolled": false
   },
   "outputs": [],
   "source": [
    "feature_name = ['Date', 'Time', 'PT08.S1(CO)', 'NMHC(GT)', 'C6H6(GT)', 'PT08.S2(NMHC)', 'NOx(GT)', 'PT08.S3(NOx)', 'NO2(GT)', 'PT08.S4(NO2)','PT08.S5(O3)', 'T','RH', 'AH' ]"
   ]
  },
  {
   "cell_type": "code",
   "execution_count": 66,
   "metadata": {
    "collapsed": true,
    "scrolled": false
   },
   "outputs": [],
   "source": [
    "data_set = pd.DataFrame(data_set, columns = feature_name)"
   ]
  },
  {
   "cell_type": "code",
   "execution_count": 67,
   "metadata": {},
   "outputs": [
    {
     "data": {
      "text/plain": [
       "0      2004-03-10\n",
       "1      2004-03-10\n",
       "2      2004-03-10\n",
       "3      2004-03-10\n",
       "4      2004-03-10\n",
       "5      2004-03-10\n",
       "6      2004-03-11\n",
       "7      2004-03-11\n",
       "8      2004-03-11\n",
       "9      2004-03-11\n",
       "10     2004-03-11\n",
       "11     2004-03-11\n",
       "12     2004-03-11\n",
       "13     2004-03-11\n",
       "14     2004-03-11\n",
       "15     2004-03-11\n",
       "16     2004-03-11\n",
       "17     2004-03-11\n",
       "18     2004-03-11\n",
       "19     2004-03-11\n",
       "20     2004-03-11\n",
       "21     2004-03-11\n",
       "22     2004-03-11\n",
       "23     2004-03-11\n",
       "24     2004-03-11\n",
       "25     2004-03-11\n",
       "26     2004-03-11\n",
       "27     2004-03-11\n",
       "28     2004-03-11\n",
       "29     2004-03-11\n",
       "          ...    \n",
       "9327   2005-04-03\n",
       "9328   2005-04-03\n",
       "9329   2005-04-03\n",
       "9330   2005-04-03\n",
       "9331   2005-04-03\n",
       "9332   2005-04-03\n",
       "9333   2005-04-03\n",
       "9334   2005-04-03\n",
       "9335   2005-04-03\n",
       "9336   2005-04-03\n",
       "9337   2005-04-03\n",
       "9338   2005-04-03\n",
       "9339   2005-04-03\n",
       "9340   2005-04-03\n",
       "9341   2005-04-03\n",
       "9342   2005-04-04\n",
       "9343   2005-04-04\n",
       "9344   2005-04-04\n",
       "9345   2005-04-04\n",
       "9346   2005-04-04\n",
       "9347   2005-04-04\n",
       "9348   2005-04-04\n",
       "9349   2005-04-04\n",
       "9350   2005-04-04\n",
       "9351   2005-04-04\n",
       "9352   2005-04-04\n",
       "9353   2005-04-04\n",
       "9354   2005-04-04\n",
       "9355   2005-04-04\n",
       "9356   2005-04-04\n",
       "Name: Date, Length: 9357, dtype: datetime64[ns]"
      ]
     },
     "execution_count": 67,
     "metadata": {},
     "output_type": "execute_result"
    }
   ],
   "source": [
    "data_set['Date']"
   ]
  },
  {
   "cell_type": "code",
   "execution_count": 68,
   "metadata": {
    "collapsed": true
   },
   "outputs": [],
   "source": [
    "corr = data_set.corr('pearson')\n"
   ]
  },
  {
   "cell_type": "code",
   "execution_count": 69,
   "metadata": {},
   "outputs": [
    {
     "data": {
      "text/html": [
       "<div>\n",
       "<style>\n",
       "    .dataframe thead tr:only-child th {\n",
       "        text-align: right;\n",
       "    }\n",
       "\n",
       "    .dataframe thead th {\n",
       "        text-align: left;\n",
       "    }\n",
       "\n",
       "    .dataframe tbody tr th {\n",
       "        vertical-align: top;\n",
       "    }\n",
       "</style>\n",
       "<table border=\"1\" class=\"dataframe\">\n",
       "  <thead>\n",
       "    <tr style=\"text-align: right;\">\n",
       "      <th></th>\n",
       "      <th>PT08.S1(CO)</th>\n",
       "      <th>NMHC(GT)</th>\n",
       "      <th>C6H6(GT)</th>\n",
       "      <th>PT08.S2(NMHC)</th>\n",
       "      <th>NOx(GT)</th>\n",
       "      <th>PT08.S3(NOx)</th>\n",
       "      <th>NO2(GT)</th>\n",
       "      <th>PT08.S4(NO2)</th>\n",
       "      <th>PT08.S5(O3)</th>\n",
       "      <th>T</th>\n",
       "      <th>RH</th>\n",
       "      <th>AH</th>\n",
       "    </tr>\n",
       "  </thead>\n",
       "  <tbody>\n",
       "    <tr>\n",
       "      <th>PT08.S1(CO)</th>\n",
       "      <td>1.000000</td>\n",
       "      <td>0.170009</td>\n",
       "      <td>0.852659</td>\n",
       "      <td>0.933101</td>\n",
       "      <td>0.278029</td>\n",
       "      <td>0.086931</td>\n",
       "      <td>0.154058</td>\n",
       "      <td>0.845133</td>\n",
       "      <td>0.892436</td>\n",
       "      <td>0.754806</td>\n",
       "      <td>0.745344</td>\n",
       "      <td>0.764866</td>\n",
       "    </tr>\n",
       "    <tr>\n",
       "      <th>NMHC(GT)</th>\n",
       "      <td>0.170009</td>\n",
       "      <td>1.000000</td>\n",
       "      <td>0.037329</td>\n",
       "      <td>0.110097</td>\n",
       "      <td>-0.004413</td>\n",
       "      <td>0.048832</td>\n",
       "      <td>0.103345</td>\n",
       "      <td>0.162689</td>\n",
       "      <td>0.101189</td>\n",
       "      <td>-0.000008</td>\n",
       "      <td>0.008288</td>\n",
       "      <td>0.012500</td>\n",
       "    </tr>\n",
       "    <tr>\n",
       "      <th>C6H6(GT)</th>\n",
       "      <td>0.852659</td>\n",
       "      <td>0.037329</td>\n",
       "      <td>1.000000</td>\n",
       "      <td>0.767401</td>\n",
       "      <td>-0.001163</td>\n",
       "      <td>0.512154</td>\n",
       "      <td>-0.010971</td>\n",
       "      <td>0.774649</td>\n",
       "      <td>0.641306</td>\n",
       "      <td>0.971370</td>\n",
       "      <td>0.925068</td>\n",
       "      <td>0.984556</td>\n",
       "    </tr>\n",
       "    <tr>\n",
       "      <th>PT08.S2(NMHC)</th>\n",
       "      <td>0.933101</td>\n",
       "      <td>0.110097</td>\n",
       "      <td>0.767401</td>\n",
       "      <td>1.000000</td>\n",
       "      <td>0.331331</td>\n",
       "      <td>-0.073748</td>\n",
       "      <td>0.176569</td>\n",
       "      <td>0.874761</td>\n",
       "      <td>0.909909</td>\n",
       "      <td>0.668984</td>\n",
       "      <td>0.585775</td>\n",
       "      <td>0.646535</td>\n",
       "    </tr>\n",
       "    <tr>\n",
       "      <th>NOx(GT)</th>\n",
       "      <td>0.278029</td>\n",
       "      <td>-0.004413</td>\n",
       "      <td>-0.001163</td>\n",
       "      <td>0.331331</td>\n",
       "      <td>1.000000</td>\n",
       "      <td>-0.436083</td>\n",
       "      <td>0.817138</td>\n",
       "      <td>0.035580</td>\n",
       "      <td>0.461916</td>\n",
       "      <td>-0.138457</td>\n",
       "      <td>-0.053008</td>\n",
       "      <td>-0.095841</td>\n",
       "    </tr>\n",
       "    <tr>\n",
       "      <th>PT08.S3(NOx)</th>\n",
       "      <td>0.086931</td>\n",
       "      <td>0.048832</td>\n",
       "      <td>0.512154</td>\n",
       "      <td>-0.073748</td>\n",
       "      <td>-0.436083</td>\n",
       "      <td>1.000000</td>\n",
       "      <td>-0.256217</td>\n",
       "      <td>0.122672</td>\n",
       "      <td>-0.208935</td>\n",
       "      <td>0.588061</td>\n",
       "      <td>0.573513</td>\n",
       "      <td>0.621576</td>\n",
       "    </tr>\n",
       "    <tr>\n",
       "      <th>NO2(GT)</th>\n",
       "      <td>0.154058</td>\n",
       "      <td>0.103345</td>\n",
       "      <td>-0.010971</td>\n",
       "      <td>0.176569</td>\n",
       "      <td>0.817138</td>\n",
       "      <td>-0.256217</td>\n",
       "      <td>1.000000</td>\n",
       "      <td>-0.022092</td>\n",
       "      <td>0.253469</td>\n",
       "      <td>-0.084084</td>\n",
       "      <td>-0.081300</td>\n",
       "      <td>-0.060423</td>\n",
       "    </tr>\n",
       "    <tr>\n",
       "      <th>PT08.S4(NO2)</th>\n",
       "      <td>0.845133</td>\n",
       "      <td>0.162689</td>\n",
       "      <td>0.774649</td>\n",
       "      <td>0.874761</td>\n",
       "      <td>0.035580</td>\n",
       "      <td>0.122672</td>\n",
       "      <td>-0.022092</td>\n",
       "      <td>1.000000</td>\n",
       "      <td>0.723670</td>\n",
       "      <td>0.755053</td>\n",
       "      <td>0.640685</td>\n",
       "      <td>0.691889</td>\n",
       "    </tr>\n",
       "    <tr>\n",
       "      <th>PT08.S5(O3)</th>\n",
       "      <td>0.892436</td>\n",
       "      <td>0.101189</td>\n",
       "      <td>0.641306</td>\n",
       "      <td>0.909909</td>\n",
       "      <td>0.461916</td>\n",
       "      <td>-0.208935</td>\n",
       "      <td>0.253469</td>\n",
       "      <td>0.723670</td>\n",
       "      <td>1.000000</td>\n",
       "      <td>0.503659</td>\n",
       "      <td>0.524922</td>\n",
       "      <td>0.519432</td>\n",
       "    </tr>\n",
       "    <tr>\n",
       "      <th>T</th>\n",
       "      <td>0.754806</td>\n",
       "      <td>-0.000008</td>\n",
       "      <td>0.971370</td>\n",
       "      <td>0.668984</td>\n",
       "      <td>-0.138457</td>\n",
       "      <td>0.588061</td>\n",
       "      <td>-0.084084</td>\n",
       "      <td>0.755053</td>\n",
       "      <td>0.503659</td>\n",
       "      <td>1.000000</td>\n",
       "      <td>0.885910</td>\n",
       "      <td>0.980998</td>\n",
       "    </tr>\n",
       "    <tr>\n",
       "      <th>RH</th>\n",
       "      <td>0.745344</td>\n",
       "      <td>0.008288</td>\n",
       "      <td>0.925068</td>\n",
       "      <td>0.585775</td>\n",
       "      <td>-0.053008</td>\n",
       "      <td>0.573513</td>\n",
       "      <td>-0.081300</td>\n",
       "      <td>0.640685</td>\n",
       "      <td>0.524922</td>\n",
       "      <td>0.885910</td>\n",
       "      <td>1.000000</td>\n",
       "      <td>0.943997</td>\n",
       "    </tr>\n",
       "    <tr>\n",
       "      <th>AH</th>\n",
       "      <td>0.764866</td>\n",
       "      <td>0.012500</td>\n",
       "      <td>0.984556</td>\n",
       "      <td>0.646535</td>\n",
       "      <td>-0.095841</td>\n",
       "      <td>0.621576</td>\n",
       "      <td>-0.060423</td>\n",
       "      <td>0.691889</td>\n",
       "      <td>0.519432</td>\n",
       "      <td>0.980998</td>\n",
       "      <td>0.943997</td>\n",
       "      <td>1.000000</td>\n",
       "    </tr>\n",
       "  </tbody>\n",
       "</table>\n",
       "</div>"
      ],
      "text/plain": [
       "               PT08.S1(CO)  NMHC(GT)  C6H6(GT)  PT08.S2(NMHC)   NOx(GT)  \\\n",
       "PT08.S1(CO)       1.000000  0.170009  0.852659       0.933101  0.278029   \n",
       "NMHC(GT)          0.170009  1.000000  0.037329       0.110097 -0.004413   \n",
       "C6H6(GT)          0.852659  0.037329  1.000000       0.767401 -0.001163   \n",
       "PT08.S2(NMHC)     0.933101  0.110097  0.767401       1.000000  0.331331   \n",
       "NOx(GT)           0.278029 -0.004413 -0.001163       0.331331  1.000000   \n",
       "PT08.S3(NOx)      0.086931  0.048832  0.512154      -0.073748 -0.436083   \n",
       "NO2(GT)           0.154058  0.103345 -0.010971       0.176569  0.817138   \n",
       "PT08.S4(NO2)      0.845133  0.162689  0.774649       0.874761  0.035580   \n",
       "PT08.S5(O3)       0.892436  0.101189  0.641306       0.909909  0.461916   \n",
       "T                 0.754806 -0.000008  0.971370       0.668984 -0.138457   \n",
       "RH                0.745344  0.008288  0.925068       0.585775 -0.053008   \n",
       "AH                0.764866  0.012500  0.984556       0.646535 -0.095841   \n",
       "\n",
       "               PT08.S3(NOx)   NO2(GT)  PT08.S4(NO2)  PT08.S5(O3)         T  \\\n",
       "PT08.S1(CO)        0.086931  0.154058      0.845133     0.892436  0.754806   \n",
       "NMHC(GT)           0.048832  0.103345      0.162689     0.101189 -0.000008   \n",
       "C6H6(GT)           0.512154 -0.010971      0.774649     0.641306  0.971370   \n",
       "PT08.S2(NMHC)     -0.073748  0.176569      0.874761     0.909909  0.668984   \n",
       "NOx(GT)           -0.436083  0.817138      0.035580     0.461916 -0.138457   \n",
       "PT08.S3(NOx)       1.000000 -0.256217      0.122672    -0.208935  0.588061   \n",
       "NO2(GT)           -0.256217  1.000000     -0.022092     0.253469 -0.084084   \n",
       "PT08.S4(NO2)       0.122672 -0.022092      1.000000     0.723670  0.755053   \n",
       "PT08.S5(O3)       -0.208935  0.253469      0.723670     1.000000  0.503659   \n",
       "T                  0.588061 -0.084084      0.755053     0.503659  1.000000   \n",
       "RH                 0.573513 -0.081300      0.640685     0.524922  0.885910   \n",
       "AH                 0.621576 -0.060423      0.691889     0.519432  0.980998   \n",
       "\n",
       "                     RH        AH  \n",
       "PT08.S1(CO)    0.745344  0.764866  \n",
       "NMHC(GT)       0.008288  0.012500  \n",
       "C6H6(GT)       0.925068  0.984556  \n",
       "PT08.S2(NMHC)  0.585775  0.646535  \n",
       "NOx(GT)       -0.053008 -0.095841  \n",
       "PT08.S3(NOx)   0.573513  0.621576  \n",
       "NO2(GT)       -0.081300 -0.060423  \n",
       "PT08.S4(NO2)   0.640685  0.691889  \n",
       "PT08.S5(O3)    0.524922  0.519432  \n",
       "T              0.885910  0.980998  \n",
       "RH             1.000000  0.943997  \n",
       "AH             0.943997  1.000000  "
      ]
     },
     "execution_count": 69,
     "metadata": {},
     "output_type": "execute_result"
    }
   ],
   "source": [
    "corr"
   ]
  },
  {
   "cell_type": "code",
   "execution_count": 70,
   "metadata": {},
   "outputs": [
    {
     "data": {
      "text/plain": [
       "NMHC(GT)         0.012500\n",
       "NO2(GT)          0.060423\n",
       "NOx(GT)          0.095841\n",
       "PT08.S5(O3)      0.519432\n",
       "PT08.S3(NOx)     0.621576\n",
       "PT08.S2(NMHC)    0.646535\n",
       "PT08.S4(NO2)     0.691889\n",
       "PT08.S1(CO)      0.764866\n",
       "RH               0.943997\n",
       "T                0.980998\n",
       "C6H6(GT)         0.984556\n",
       "AH               1.000000\n",
       "Name: AH, dtype: float64"
      ]
     },
     "execution_count": 70,
     "metadata": {},
     "output_type": "execute_result"
    }
   ],
   "source": [
    "abs(corr['AH']).sort_values()"
   ]
  },
  {
   "cell_type": "code",
   "execution_count": 79,
   "metadata": {
    "collapsed": true
   },
   "outputs": [],
   "source": [
    "X = data_set['PT08.S4(NO2)']\n",
    "Y = data_set['AH']"
   ]
  },
  {
   "cell_type": "code",
   "execution_count": 80,
   "metadata": {},
   "outputs": [
    {
     "data": {
      "text/plain": [
       "[<matplotlib.lines.Line2D at 0x2bc6dd883c8>]"
      ]
     },
     "execution_count": 80,
     "metadata": {},
     "output_type": "execute_result"
    },
    {
     "data": {
      "image/png": "[encoded data removed]",
      "text/plain": [
       "<matplotlib.figure.Figure at 0x2bc6d93d630>"
      ]
     },
     "metadata": {},
     "output_type": "display_data"
    }
   ],
   "source": [
    "plt.plot(X,Y,'r.')"
   ]
  },
  {
   "cell_type": "code",
   "execution_count": 81,
   "metadata": {
    "collapsed": true
   },
   "outputs": [],
   "source": [
    "X = (X-X.min())/(X.max() - X.min())\n",
    "Y = (Y-Y.min())/(Y.max() - Y.min())"
   ]
  },
  {
   "cell_type": "code",
   "execution_count": 82,
   "metadata": {},
   "outputs": [
    {
     "data": {
      "text/plain": [
       "[<matplotlib.lines.Line2D at 0x2bc6dec0240>]"
      ]
     },
     "execution_count": 82,
     "metadata": {},
     "output_type": "execute_result"
    },
    {
     "data": {
      "image/png": "[encoded data removed]",
      "text/plain": [
       "<matplotlib.figure.Figure at 0x2bc6dde3128>"
      ]
     },
     "metadata": {},
     "output_type": "display_data"
    }
   ],
   "source": [
    "plt.plot(X,Y,'r.')"
   ]
  },
  {
   "cell_type": "code",
   "execution_count": 84,
   "metadata": {
    "collapsed": true
   },
   "outputs": [],
   "source": [
    "x = np.array(X)\n",
    "y = np.array(Y)"
   ]
  },
  {
   "cell_type": "code",
   "execution_count": 85,
   "metadata": {
    "collapsed": true
   },
   "outputs": [],
   "source": [
    "x_train, x_test, y_train, y_test = train_test_split(x,y,test_size =0.25)"
   ]
  },
  {
   "cell_type": "code",
   "execution_count": 86,
   "metadata": {
    "collapsed": true
   },
   "outputs": [],
   "source": [
    "def hypo(a,x,b):\n",
    "    return (1/(1+np.exp(-(a*x + b))))"
   ]
  },
  {
   "cell_type": "code",
   "execution_count": 87,
   "metadata": {
    "collapsed": true
   },
   "outputs": [],
   "source": [
    "def error(a,x,b,y):\n",
    "    e = 0 \n",
    "    m = len(x)\n",
    "    \n",
    "    for i in range(m):\n",
    "        e += -(y[i]*np.log(hypo(a,x[i],b))) - ((1-y[i]) * np.log(1-hypo(a,x[i],b)))\n",
    "    \n",
    "    return (1/m) * e"
   ]
  },
  {
   "cell_type": "code",
   "execution_count": 88,
   "metadata": {
    "collapsed": true
   },
   "outputs": [],
   "source": [
    "def step_gradient(a, x, b, y, learning_rate):\n",
    "    grad_a = 0 \n",
    "    grad_b = 0\n",
    "    \n",
    "    m = len(x)\n",
    "    \n",
    "    for i in range(m):\n",
    "        grad_a += (hypo(a,x[i], b) - y[i]) * (x [i ])\n",
    "        grad_b += (hypo(a,x[i],b) - y[i]) \n",
    "        \n",
    "    a = a - (grad_a * learning_rate)\n",
    "    b = b - (grad_b * learning_rate)\n",
    "    \n",
    "    return a,b"
   ]
  },
  {
   "cell_type": "code",
   "execution_count": 89,
   "metadata": {
    "collapsed": true
   },
   "outputs": [],
   "source": [
    "def descend(init_a, x,init_b, y, learning_rate, iterations):\n",
    "    a = init_a\n",
    "    b = init_b\n",
    "    \n",
    "    for i in  range(iterations):\n",
    "        e = error(a, x, b, y)\n",
    "        if i%1000 == 0:\n",
    "            print(f\"error: {e}, a:{a}, b:{b}\")\n",
    "        a,b = step_gradient(a,x,b,y,learning_rate)\n",
    "    return a,b"
   ]
  },
  {
   "cell_type": "code",
   "execution_count": 90,
   "metadata": {
    "collapsed": true
   },
   "outputs": [],
   "source": [
    "init_a = 0\n",
    "init_b = 0\n",
    "iterations =10000\n",
    "learning_rate = 0.001"
   ]
  },
  {
   "cell_type": "code",
   "execution_count": 91,
   "metadata": {},
   "outputs": [
    {
     "name": "stdout",
     "output_type": "stream",
     "text": [
      "error: 0.6931471805600279, a:0, b:0\n"
     ]
    },
    {
     "name": "stderr",
     "output_type": "stream",
     "text": [
      "C:\\Users\\Vivek\\Anaconda3\\lib\\site-packages\\ipykernel_launcher.py:6: RuntimeWarning: divide by zero encountered in log\n",
      "  \n"
     ]
    },
    {
     "name": "stdout",
     "output_type": "stream",
     "text": [
      "error: 0.04407578512038245, a:16.65312650070854, b:-2.9238016956547863\n",
      "error: 0.04407578512038257, a:16.653126509228894, b:-2.923801698390953\n",
      "error: 0.04407578512038257, a:16.653126509228894, b:-2.923801698390953\n",
      "error: 0.04407578512038257, a:16.653126509228894, b:-2.923801698390953\n",
      "error: 0.04407578512038257, a:16.653126509228894, b:-2.923801698390953\n"
     ]
    },
    {
     "ename": "KeyboardInterrupt",
     "evalue": "",
     "output_type": "error",
     "traceback": [
      "\u001b[1;31m---------------------------------------------------------------------------\u001b[0m",
      "\u001b[1;31mKeyboardInterrupt\u001b[0m                         Traceback (most recent call last)",
      "\u001b[1;32m<ipython-input-91-2ae7e5fd878a>\u001b[0m in \u001b[0;36m<module>\u001b[1;34m()\u001b[0m\n\u001b[1;32m----> 1\u001b[1;33m \u001b[0mfinal_a\u001b[0m \u001b[1;33m,\u001b[0m  \u001b[0mfinal_b\u001b[0m \u001b[1;33m=\u001b[0m \u001b[0mdescend\u001b[0m\u001b[1;33m(\u001b[0m\u001b[0minit_a\u001b[0m\u001b[1;33m,\u001b[0m \u001b[0mx_train\u001b[0m\u001b[1;33m,\u001b[0m \u001b[0minit_b\u001b[0m\u001b[1;33m,\u001b[0m \u001b[0my_train\u001b[0m\u001b[1;33m,\u001b[0m \u001b[0mlearning_rate\u001b[0m\u001b[1;33m,\u001b[0m \u001b[0miterations\u001b[0m\u001b[1;33m)\u001b[0m\u001b[1;33m\u001b[0m\u001b[0m\n\u001b[0m",
      "\u001b[1;32m<ipython-input-89-379e68065a48>\u001b[0m in \u001b[0;36mdescend\u001b[1;34m(init_a, x, init_b, y, learning_rate, iterations)\u001b[0m\n\u001b[0;32m      4\u001b[0m \u001b[1;33m\u001b[0m\u001b[0m\n\u001b[0;32m      5\u001b[0m     \u001b[1;32mfor\u001b[0m \u001b[0mi\u001b[0m \u001b[1;32min\u001b[0m  \u001b[0mrange\u001b[0m\u001b[1;33m(\u001b[0m\u001b[0miterations\u001b[0m\u001b[1;33m)\u001b[0m\u001b[1;33m:\u001b[0m\u001b[1;33m\u001b[0m\u001b[0m\n\u001b[1;32m----> 6\u001b[1;33m         \u001b[0me\u001b[0m \u001b[1;33m=\u001b[0m \u001b[0merror\u001b[0m\u001b[1;33m(\u001b[0m\u001b[0ma\u001b[0m\u001b[1;33m,\u001b[0m \u001b[0mx\u001b[0m\u001b[1;33m,\u001b[0m \u001b[0mb\u001b[0m\u001b[1;33m,\u001b[0m \u001b[0my\u001b[0m\u001b[1;33m)\u001b[0m\u001b[1;33m\u001b[0m\u001b[0m\n\u001b[0m\u001b[0;32m      7\u001b[0m         \u001b[1;32mif\u001b[0m \u001b[0mi\u001b[0m\u001b[1;33m%\u001b[0m\u001b[1;36m1000\u001b[0m \u001b[1;33m==\u001b[0m \u001b[1;36m0\u001b[0m\u001b[1;33m:\u001b[0m\u001b[1;33m\u001b[0m\u001b[0m\n\u001b[0;32m      8\u001b[0m             \u001b[0mprint\u001b[0m\u001b[1;33m(\u001b[0m\u001b[1;34mf\"error: {e}, a:{a}, b:{b}\"\u001b[0m\u001b[1;33m)\u001b[0m\u001b[1;33m\u001b[0m\u001b[0m\n",
      "\u001b[1;32m<ipython-input-87-0c496e344678>\u001b[0m in \u001b[0;36merror\u001b[1;34m(a, x, b, y)\u001b[0m\n\u001b[0;32m      4\u001b[0m \u001b[1;33m\u001b[0m\u001b[0m\n\u001b[0;32m      5\u001b[0m     \u001b[1;32mfor\u001b[0m \u001b[0mi\u001b[0m \u001b[1;32min\u001b[0m \u001b[0mrange\u001b[0m\u001b[1;33m(\u001b[0m\u001b[0mm\u001b[0m\u001b[1;33m)\u001b[0m\u001b[1;33m:\u001b[0m\u001b[1;33m\u001b[0m\u001b[0m\n\u001b[1;32m----> 6\u001b[1;33m         \u001b[0me\u001b[0m \u001b[1;33m+=\u001b[0m \u001b[1;33m-\u001b[0m\u001b[1;33m(\u001b[0m\u001b[0my\u001b[0m\u001b[1;33m[\u001b[0m\u001b[0mi\u001b[0m\u001b[1;33m]\u001b[0m\u001b[1;33m*\u001b[0m\u001b[0mnp\u001b[0m\u001b[1;33m.\u001b[0m\u001b[0mlog\u001b[0m\u001b[1;33m(\u001b[0m\u001b[0mhypo\u001b[0m\u001b[1;33m(\u001b[0m\u001b[0ma\u001b[0m\u001b[1;33m,\u001b[0m\u001b[0mx\u001b[0m\u001b[1;33m[\u001b[0m\u001b[0mi\u001b[0m\u001b[1;33m]\u001b[0m\u001b[1;33m,\u001b[0m\u001b[0mb\u001b[0m\u001b[1;33m)\u001b[0m\u001b[1;33m)\u001b[0m\u001b[1;33m)\u001b[0m \u001b[1;33m-\u001b[0m \u001b[1;33m(\u001b[0m\u001b[1;33m(\u001b[0m\u001b[1;36m1\u001b[0m\u001b[1;33m-\u001b[0m\u001b[0my\u001b[0m\u001b[1;33m[\u001b[0m\u001b[0mi\u001b[0m\u001b[1;33m]\u001b[0m\u001b[1;33m)\u001b[0m \u001b[1;33m*\u001b[0m \u001b[0mnp\u001b[0m\u001b[1;33m.\u001b[0m\u001b[0mlog\u001b[0m\u001b[1;33m(\u001b[0m\u001b[1;36m1\u001b[0m\u001b[1;33m-\u001b[0m\u001b[0mhypo\u001b[0m\u001b[1;33m(\u001b[0m\u001b[0ma\u001b[0m\u001b[1;33m,\u001b[0m\u001b[0mx\u001b[0m\u001b[1;33m[\u001b[0m\u001b[0mi\u001b[0m\u001b[1;33m]\u001b[0m\u001b[1;33m,\u001b[0m\u001b[0mb\u001b[0m\u001b[1;33m)\u001b[0m\u001b[1;33m)\u001b[0m\u001b[1;33m)\u001b[0m\u001b[1;33m\u001b[0m\u001b[0m\n\u001b[0m\u001b[0;32m      7\u001b[0m \u001b[1;33m\u001b[0m\u001b[0m\n\u001b[0;32m      8\u001b[0m     \u001b[1;32mreturn\u001b[0m \u001b[1;33m(\u001b[0m\u001b[1;36m1\u001b[0m\u001b[1;33m/\u001b[0m\u001b[0mm\u001b[0m\u001b[1;33m)\u001b[0m \u001b[1;33m*\u001b[0m \u001b[0me\u001b[0m\u001b[1;33m\u001b[0m\u001b[0m\n",
      "\u001b[1;32m<ipython-input-86-4bf459ad7cc1>\u001b[0m in \u001b[0;36mhypo\u001b[1;34m(a, x, b)\u001b[0m\n\u001b[0;32m      1\u001b[0m \u001b[1;32mdef\u001b[0m \u001b[0mhypo\u001b[0m\u001b[1;33m(\u001b[0m\u001b[0ma\u001b[0m\u001b[1;33m,\u001b[0m\u001b[0mx\u001b[0m\u001b[1;33m,\u001b[0m\u001b[0mb\u001b[0m\u001b[1;33m)\u001b[0m\u001b[1;33m:\u001b[0m\u001b[1;33m\u001b[0m\u001b[0m\n\u001b[1;32m----> 2\u001b[1;33m     \u001b[1;32mreturn\u001b[0m \u001b[1;33m(\u001b[0m\u001b[1;36m1\u001b[0m\u001b[1;33m/\u001b[0m\u001b[1;33m(\u001b[0m\u001b[1;36m1\u001b[0m\u001b[1;33m+\u001b[0m\u001b[0mnp\u001b[0m\u001b[1;33m.\u001b[0m\u001b[0mexp\u001b[0m\u001b[1;33m(\u001b[0m\u001b[1;33m-\u001b[0m\u001b[1;33m(\u001b[0m\u001b[0ma\u001b[0m\u001b[1;33m*\u001b[0m\u001b[0mx\u001b[0m \u001b[1;33m+\u001b[0m \u001b[0mb\u001b[0m\u001b[1;33m)\u001b[0m\u001b[1;33m)\u001b[0m\u001b[1;33m)\u001b[0m\u001b[1;33m)\u001b[0m\u001b[1;33m\u001b[0m\u001b[0m\n\u001b[0m",
      "\u001b[1;31mKeyboardInterrupt\u001b[0m: "
     ]
    }
   ],
   "source": [
    "final_a ,  final_b = descend(init_a, x_train, init_b, y_train, learning_rate, iterations)"
   ]
  },
  {
   "cell_type": "code",
   "execution_count": 94,
   "metadata": {
    "collapsed": true
   },
   "outputs": [],
   "source": [
    "final_a = 16.653126509228894\n",
    "final_b = -2.923801698390953"
   ]
  },
  {
   "cell_type": "code",
   "execution_count": 95,
   "metadata": {
    "collapsed": true
   },
   "outputs": [],
   "source": [
    "def accuracy(a,x,b,y):\n",
    "    correct = 0\n",
    "    m = len(x)\n",
    "    \n",
    "    for i in range(m):\n",
    "        pred = hypo(a,x[i],b)\n",
    "        if pred > 0.5:\n",
    "            z = 1\n",
    "        else:\n",
    "            z = 0\n",
    "        \n",
    "        if y[i] == z:\n",
    "            correct +=1\n",
    "    print(f\"accuracy: {correct/len(y)}\")"
   ]
  },
  {
   "cell_type": "code",
   "execution_count": 96,
   "metadata": {},
   "outputs": [
    {
     "name": "stdout",
     "output_type": "stream",
     "text": [
      "accuracy: 0.04033062562348582\n"
     ]
    }
   ],
   "source": [
    "accuracy(final_a, x_train, final_b, y_train)"
   ]
  },
  {
   "cell_type": "code",
   "execution_count": 97,
   "metadata": {},
   "outputs": [
    {
     "name": "stdout",
     "output_type": "stream",
     "text": [
      "accuracy: 0.035897435897435895\n"
     ]
    }
   ],
   "source": [
    "accuracy(final_a, x_test, final_b, y_test)"
   ]
  },
  {
   "cell_type": "code",
   "execution_count": 99,
   "metadata": {},
   "outputs": [
    {
     "data": {
      "text/plain": [
       "[<matplotlib.lines.Line2D at 0x2bc6d7c3b00>]"
      ]
     },
     "execution_count": 99,
     "metadata": {},
     "output_type": "execute_result"
    },
    {
     "data": {
      "image/png": "[encoded data removed]",
      "text/plain": [
       "<matplotlib.figure.Figure at 0x2bc6e046b00>"
      ]
     },
     "metadata": {},
     "output_type": "display_data"
    }
   ],
   "source": [
    "plt.plot(x_test, hypo(final_a, x_test, final_b),'b.')"
   ]
  },
  {
   "cell_type": "code",
   "execution_count": null,
   "metadata": {
    "collapsed": true
   },
   "outputs": [],
   "source": []
  }
 ],
 "metadata": {
  "kernelspec": {
   "display_name": "Python 3",
   "language": "python",
   "name": "python3"
  },
  "language_info": {
   "codemirror_mode": {
    "name": "ipython",
    "version": 3
   },
   "file_extension": ".py",
   "mimetype": "text/x-python",
   "name": "python",
   "nbconvert_exporter": "python",
   "pygments_lexer": "ipython3",
   "version": "3.6.3"
  }
 },
 "nbformat": 4,
 "nbformat_minor": 2
}
