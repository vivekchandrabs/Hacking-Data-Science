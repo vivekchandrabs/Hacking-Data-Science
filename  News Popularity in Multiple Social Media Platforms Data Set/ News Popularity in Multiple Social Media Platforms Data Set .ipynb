{
 "cells": [
  {
   "cell_type": "code",
   "execution_count": 1,
   "metadata": {
    "collapsed": true
   },
   "outputs": [],
   "source": [
    "import numpy as np\n",
    "import pandas as pd\n",
    "import matplotlib.pyplot as plt\n",
    "\n",
    "from sklearn.model_selection import train_test_split\n",
    "%matplotlib inline"
   ]
  },
  {
   "cell_type": "code",
   "execution_count": 2,
   "metadata": {
    "collapsed": true
   },
   "outputs": [],
   "source": [
    "data_set = pd.read_csv('News_Final.csv')"
   ]
  },
  {
   "cell_type": "code",
   "execution_count": 8,
   "metadata": {},
   "outputs": [
    {
     "data": {
      "text/html": [
       "<div>\n",
       "<style>\n",
       "    .dataframe thead tr:only-child th {\n",
       "        text-align: right;\n",
       "    }\n",
       "\n",
       "    .dataframe thead th {\n",
       "        text-align: left;\n",
       "    }\n",
       "\n",
       "    .dataframe tbody tr th {\n",
       "        vertical-align: top;\n",
       "    }\n",
       "</style>\n",
       "<table border=\"1\" class=\"dataframe\">\n",
       "  <thead>\n",
       "    <tr style=\"text-align: right;\">\n",
       "      <th></th>\n",
       "      <th>IDLink</th>\n",
       "      <th>SentimentTitle</th>\n",
       "      <th>SentimentHeadline</th>\n",
       "      <th>Facebook</th>\n",
       "      <th>GooglePlus</th>\n",
       "      <th>LinkedIn</th>\n",
       "    </tr>\n",
       "  </thead>\n",
       "  <tbody>\n",
       "    <tr>\n",
       "      <th>IDLink</th>\n",
       "      <td>1.000000</td>\n",
       "      <td>0.005025</td>\n",
       "      <td>0.024476</td>\n",
       "      <td>0.105783</td>\n",
       "      <td>0.037486</td>\n",
       "      <td>-0.032461</td>\n",
       "    </tr>\n",
       "    <tr>\n",
       "      <th>SentimentTitle</th>\n",
       "      <td>0.005025</td>\n",
       "      <td>1.000000</td>\n",
       "      <td>0.183555</td>\n",
       "      <td>-0.003807</td>\n",
       "      <td>-0.010266</td>\n",
       "      <td>0.003411</td>\n",
       "    </tr>\n",
       "    <tr>\n",
       "      <th>SentimentHeadline</th>\n",
       "      <td>0.024476</td>\n",
       "      <td>0.183555</td>\n",
       "      <td>1.000000</td>\n",
       "      <td>0.000456</td>\n",
       "      <td>0.001741</td>\n",
       "      <td>0.005922</td>\n",
       "    </tr>\n",
       "    <tr>\n",
       "      <th>Facebook</th>\n",
       "      <td>0.105783</td>\n",
       "      <td>-0.003807</td>\n",
       "      <td>0.000456</td>\n",
       "      <td>1.000000</td>\n",
       "      <td>0.509049</td>\n",
       "      <td>0.067912</td>\n",
       "    </tr>\n",
       "    <tr>\n",
       "      <th>GooglePlus</th>\n",
       "      <td>0.037486</td>\n",
       "      <td>-0.010266</td>\n",
       "      <td>0.001741</td>\n",
       "      <td>0.509049</td>\n",
       "      <td>1.000000</td>\n",
       "      <td>0.264733</td>\n",
       "    </tr>\n",
       "    <tr>\n",
       "      <th>LinkedIn</th>\n",
       "      <td>-0.032461</td>\n",
       "      <td>0.003411</td>\n",
       "      <td>0.005922</td>\n",
       "      <td>0.067912</td>\n",
       "      <td>0.264733</td>\n",
       "      <td>1.000000</td>\n",
       "    </tr>\n",
       "  </tbody>\n",
       "</table>\n",
       "</div>"
      ],
      "text/plain": [
       "                     IDLink  SentimentTitle  SentimentHeadline  Facebook  \\\n",
       "IDLink             1.000000        0.005025           0.024476  0.105783   \n",
       "SentimentTitle     0.005025        1.000000           0.183555 -0.003807   \n",
       "SentimentHeadline  0.024476        0.183555           1.000000  0.000456   \n",
       "Facebook           0.105783       -0.003807           0.000456  1.000000   \n",
       "GooglePlus         0.037486       -0.010266           0.001741  0.509049   \n",
       "LinkedIn          -0.032461        0.003411           0.005922  0.067912   \n",
       "\n",
       "                   GooglePlus  LinkedIn  \n",
       "IDLink               0.037486 -0.032461  \n",
       "SentimentTitle      -0.010266  0.003411  \n",
       "SentimentHeadline    0.001741  0.005922  \n",
       "Facebook             0.509049  0.067912  \n",
       "GooglePlus           1.000000  0.264733  \n",
       "LinkedIn             0.264733  1.000000  "
      ]
     },
     "execution_count": 8,
     "metadata": {},
     "output_type": "execute_result"
    }
   ],
   "source": [
    "corr = data_set.corr('pearson')\n",
    "corr"
   ]
  },
  {
   "cell_type": "code",
   "execution_count": 9,
   "metadata": {},
   "outputs": [
    {
     "data": {
      "text/plain": [
       "SentimentHeadline    0.000456\n",
       "SentimentTitle       0.003807\n",
       "LinkedIn             0.067912\n",
       "IDLink               0.105783\n",
       "GooglePlus           0.509049\n",
       "Facebook             1.000000\n",
       "Name: Facebook, dtype: float64"
      ]
     },
     "execution_count": 9,
     "metadata": {},
     "output_type": "execute_result"
    }
   ],
   "source": [
    "abs(corr['Facebook']).sort_values()"
   ]
  },
  {
   "cell_type": "code",
   "execution_count": 10,
   "metadata": {
    "collapsed": true
   },
   "outputs": [],
   "source": [
    "X = data_set['SentimentTitle']\n",
    "Y = data_set['Facebook']"
   ]
  },
  {
   "cell_type": "code",
   "execution_count": 11,
   "metadata": {},
   "outputs": [
    {
     "data": {
      "text/plain": [
       "[<matplotlib.lines.Line2D at 0x2380882bba8>]"
      ]
     },
     "execution_count": 11,
     "metadata": {},
     "output_type": "execute_result"
    },
    {
     "data": {
      "image/png": "[encoded data removed]",
      "text/plain": [
       "<matplotlib.figure.Figure at 0x23808553240>"
      ]
     },
     "metadata": {},
     "output_type": "display_data"
    }
   ],
   "source": [
    "plt.plot(X,Y,'r.')"
   ]
  },
  {
   "cell_type": "code",
   "execution_count": 12,
   "metadata": {
    "collapsed": true
   },
   "outputs": [],
   "source": [
    "X = (X-X.min())/(X.max() - X.min())\n",
    "Y = (Y-Y.min())/(Y.max() - Y.min())"
   ]
  },
  {
   "cell_type": "code",
   "execution_count": 13,
   "metadata": {},
   "outputs": [
    {
     "data": {
      "text/plain": [
       "[<matplotlib.lines.Line2D at 0x2380856a160>]"
      ]
     },
     "execution_count": 13,
     "metadata": {},
     "output_type": "execute_result"
    },
    {
     "data": {
      "image/png": "[encoded data removed]",
      "text/plain": [
       "<matplotlib.figure.Figure at 0x23808801860>"
      ]
     },
     "metadata": {},
     "output_type": "display_data"
    }
   ],
   "source": [
    "plt.plot(X,Y,'r.')"
   ]
  },
  {
   "cell_type": "code",
   "execution_count": 14,
   "metadata": {
    "collapsed": true
   },
   "outputs": [],
   "source": [
    "x = np.array(X)\n",
    "y = np.array(Y)"
   ]
  },
  {
   "cell_type": "code",
   "execution_count": 15,
   "metadata": {
    "collapsed": true
   },
   "outputs": [],
   "source": [
    "x_train, x_test, y_train, y_test = train_test_split(x,y,test_size=0.2)"
   ]
  },
  {
   "cell_type": "code",
   "execution_count": 16,
   "metadata": {
    "collapsed": true
   },
   "outputs": [],
   "source": [
    "def hypothesis(a, x, b):\n",
    "    return a * x + b"
   ]
  },
  {
   "cell_type": "code",
   "execution_count": 17,
   "metadata": {
    "collapsed": true
   },
   "outputs": [],
   "source": [
    "def error(a,x,b,y):\n",
    "    e=0\n",
    "    m=len(x)#total number of the rows 506\n",
    "    \n",
    "    for i in range(m):\n",
    "        e += np.power((hypothesis(a,x[i],b)-y[i]),2)\n",
    "        \n",
    "    return (1/(2*m)) * e"
   ]
  },
  {
   "cell_type": "code",
   "execution_count": 18,
   "metadata": {
    "collapsed": true
   },
   "outputs": [],
   "source": [
    "def step_gradient(a,x,b,y,learning_rate):\n",
    "    grad_a = 0 \n",
    "    grad_b = 0\n",
    "    m = len(x)\n",
    "    \n",
    "    for i in range(m):\n",
    "        grad_a += (1/m) * (hypothesis(a, x[i], b) - y[i]) * x[i]\n",
    "        grad_b += (1/m) * (hypothesis(a, x[i], b) - y[i])\n",
    "        \n",
    "    a= a - grad_a * learning_rate\n",
    "    b= b - grad_b * learning_rate\n",
    "    \n",
    "    return a,b#THIS IS THE NEXT VALUE OF THE A AND B IN ON THE PARABOLA."
   ]
  },
  {
   "cell_type": "code",
   "execution_count": 19,
   "metadata": {
    "collapsed": true
   },
   "outputs": [],
   "source": [
    "def descend(init_a,x,init_b,y,learning_rate,iterations):#we init the a and b values at the first\n",
    "    a = init_a\n",
    "    b = init_b\n",
    "    \n",
    "    for i in range(iterations):#this is for the NUMBER OF LINES THAT SHOULD BE DRAWN.\n",
    "        e = error(a,x,b,y)#will get the mean square error\n",
    "        if i%1000 == 0:#for ever 1000 steps we are printing the error\n",
    "            print(f\"error : {np.sqrt(e)}, a:{a}, b: {b}\")\n",
    "        a, b  = step_gradient(a,x,b,y,learning_rate)#we will decide the next step.\n",
    "    return a,b"
   ]
  },
  {
   "cell_type": "code",
   "execution_count": 20,
   "metadata": {
    "collapsed": true
   },
   "outputs": [],
   "source": [
    "def descend(init_a,x,init_b,y,learning_rate,iterations):#we init the a and b values at the first\n",
    "    a = init_a\n",
    "    b = init_b\n",
    "    \n",
    "    for i in range(iterations):#this is for the NUMBER OF LINES THAT SHOULD BE DRAWN.\n",
    "        e = error(a,x,b,y)#will get the mean square error\n",
    "        if i%1000 == 0:#for ever 1000 steps we are printing the error\n",
    "            print(f\"error : {np.sqrt(e)}, a:{a}, b: {b}\")\n",
    "        a, b  = step_gradient(a,x,b,y,learning_rate)#we will decide the next step.\n",
    "    return a,b"
   ]
  },
  {
   "cell_type": "code",
   "execution_count": 21,
   "metadata": {
    "collapsed": true
   },
   "outputs": [],
   "source": [
    "a = 0\n",
    "b = 0\n",
    "learning_rate = 0.01\n",
    "iterations = 10000"
   ]
  },
  {
   "cell_type": "code",
   "execution_count": 22,
   "metadata": {},
   "outputs": [
    {
     "name": "stdout",
     "output_type": "stream",
     "text": [
      "error : 0.009120645311208809, a:0, b: 0\n",
      "error : 0.008970909896885213, a:0.0008558646737962467, b: 0.0019036171875969348\n",
      "error : 0.008970877461473483, a:0.0007875366689321505, b: 0.0019375300606009104\n",
      "error : 0.008970847575066753, a:0.000721945337043073, b: 0.001970076574405721\n",
      "error : 0.008970820037350993, a:0.00065898415744352, b: 0.0020013180028089906\n",
      "error : 0.008970794663756226, a:0.0005985476634485827, b: 0.0020313066785627837\n",
      "error : 0.008970771284214812, a:0.0005405346174791209, b: 0.002060092835900334\n",
      "error : 0.008970749742022527, a:0.00048484784149014986, b: 0.0020877246947081504\n",
      "error : 0.008970729892790902, a:0.0004313940541872326, b: 0.00211424854129948\n",
      "error : 0.008970711603475177, a:0.0003800837147703607, b: 0.0021397088059488256\n"
     ]
    }
   ],
   "source": [
    "final_a, final_b = descend(a, x_train, b, y_train, learning_rate,iterations)#FINAL SLOPE AND THE FINAL CONSTANT"
   ]
  },
  {
   "cell_type": "code",
   "execution_count": 23,
   "metadata": {},
   "outputs": [
    {
     "data": {
      "text/plain": [
       "array([0.59217414, 0.48662146, 0.45950185])"
      ]
     },
     "execution_count": 23,
     "metadata": {},
     "output_type": "execute_result"
    }
   ],
   "source": [
    "x_test[:3]"
   ]
  },
  {
   "cell_type": "code",
   "execution_count": 24,
   "metadata": {},
   "outputs": [
    {
     "data": {
      "text/plain": [
       "array([6.09607413e-05, 1.95074372e-03, 1.72722100e-03])"
      ]
     },
     "execution_count": 24,
     "metadata": {},
     "output_type": "execute_result"
    }
   ],
   "source": [
    "y_test[:3]"
   ]
  },
  {
   "cell_type": "code",
   "execution_count": 25,
   "metadata": {},
   "outputs": [
    {
     "data": {
      "text/plain": [
       "array([0.00236006, 0.00232514, 0.00231617])"
      ]
     },
     "execution_count": 25,
     "metadata": {},
     "output_type": "execute_result"
    }
   ],
   "source": [
    "hypothesis(final_a,x_test[:3],final_b)"
   ]
  },
  {
   "cell_type": "code",
   "execution_count": null,
   "metadata": {
    "collapsed": true
   },
   "outputs": [],
   "source": []
  }
 ],
 "metadata": {
  "kernelspec": {
   "display_name": "Python 3",
   "language": "python",
   "name": "python3"
  },
  "language_info": {
   "codemirror_mode": {
    "name": "ipython",
    "version": 3
   },
   "file_extension": ".py",
   "mimetype": "text/x-python",
   "name": "python",
   "nbconvert_exporter": "python",
   "pygments_lexer": "ipython3",
   "version": "3.6.3"
  }
 },
 "nbformat": 4,
 "nbformat_minor": 2
}
